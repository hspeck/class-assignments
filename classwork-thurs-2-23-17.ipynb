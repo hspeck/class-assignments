{
 "cells": [
  {
   "cell_type": "markdown",
   "metadata": {},
   "source": [
    "Class exercise 1"
   ]
  },
  {
   "cell_type": "markdown",
   "metadata": {},
   "source": [
    "curl -s 'http://fishbase.us/summary/SpeciesSummary.php?ID=4249' | grep Fisheries: | cut -d \";\" -f 1 | cut -d \":\" -f 2\n",
    "    \n",
    "    \n",
    "gives output of \"commercial\""
   ]
  },
  {
   "cell_type": "code",
   "execution_count": 21,
   "metadata": {
    "collapsed": false
   },
   "outputs": [],
   "source": [
    "import urllib.request\n",
    "from bs4 import BeautifulSoup\n",
    "\n"
   ]
  },
  {
   "cell_type": "code",
   "execution_count": 22,
   "metadata": {
    "collapsed": false
   },
   "outputs": [],
   "source": [
    "family_url = \"http://www.fishbase.org/Nomenclature/NominalSpeciesList.php?family=Abyssocottidae\""
   ]
  },
  {
   "cell_type": "code",
   "execution_count": 24,
   "metadata": {
    "collapsed": false
   },
   "outputs": [],
   "source": [
    "html = urllib.request.urlopen(family_url)\n",
    "html_doc = html.read()\n",
    "html.close()\n",
    "\n"
   ]
  },
  {
   "cell_type": "code",
   "execution_count": 25,
   "metadata": {
    "collapsed": false
   },
   "outputs": [
    {
     "name": "stderr",
     "output_type": "stream",
     "text": [
      "/home/eeb177-student/miniconda3/lib/python3.5/site-packages/bs4/__init__.py:181: UserWarning: No parser was explicitly specified, so I'm using the best available HTML parser for this system (\"html.parser\"). This usually isn't a problem, but if you run this code on another system, or in a different virtual environment, it may use a different parser and behave differently.\n",
      "\n",
      "The code that caused this warning is on line 184 of the file /home/eeb177-student/miniconda3/lib/python3.5/runpy.py. To get rid of this warning, change code that looks like this:\n",
      "\n",
      " BeautifulSoup([your markup])\n",
      "\n",
      "to this:\n",
      "\n",
      " BeautifulSoup([your markup], \"html.parser\")\n",
      "\n",
      "  markup_type=markup_type))\n"
     ]
    }
   ],
   "source": [
    "soup = BeautifulSoup(html_doc)"
   ]
  },
  {
   "cell_type": "code",
   "execution_count": 26,
   "metadata": {
    "collapsed": true
   },
   "outputs": [],
   "source": [
    "links = soup.find_all(\"a\")\n",
    "\n"
   ]
  },
  {
   "cell_type": "code",
   "execution_count": 28,
   "metadata": {
    "collapsed": false
   },
   "outputs": [
    {
     "name": "stdout",
     "output_type": "stream",
     "text": [
      "Limnocottus bergianus\n",
      "Cottinella boulengeri\n",
      "Abyssocottus elochini\n",
      "Abyssocottus gibbosus\n",
      "Abyssocottus gibbosus\n",
      "Limnocottus godlewskii\n",
      "Limnocottus godlewskii\n",
      "Limnocottus griseus\n",
      "Procottus gotoi\n",
      "Procottus gurwicii\n",
      "Asprocottus herzensteini\n",
      "Asprocottus abyssalis\n",
      "Asprocottus intermedius\n",
      "Asprocottus parmiferus\n",
      "Asprocottus platycephalus\n",
      "Procottus jeittelesii\n",
      "Procottus major\n",
      "Procottus gurwicii\n",
      "Procottus jeittelesii\n",
      "Asprocottus korjakovi\n",
      "Asprocottus minor\n",
      "Abyssocottus korotneffi\n",
      "Cyphocottus megalops\n",
      "Cyphocottus megalops\n",
      "Cyphocottus eurystomus\n",
      "Limnocottus pallidus\n",
      "Asprocottus pulcher\n",
      "Neocottus thermalis\n",
      "Neocottus werestschagini\n"
     ]
    }
   ],
   "source": [
    "\n",
    "# find all links\n",
    "links = soup.find_all(\"a\")\n",
    "for link in links:\n",
    "    # find all italic tags within each link\n",
    "    italics = link.find_all(\"i\")\n",
    "    for italic in italics:\n",
    "        # this should be the species name\n",
    "        print(italic.string)\n"
   ]
  },
  {
   "cell_type": "code",
   "execution_count": 29,
   "metadata": {
    "collapsed": true
   },
   "outputs": [],
   "source": [
    "import urllib.request\n",
    "import json"
   ]
  },
  {
   "cell_type": "code",
   "execution_count": 30,
   "metadata": {
    "collapsed": true
   },
   "outputs": [],
   "source": [
    "api_url = \"https://fishbase.ropensci.org/species/?genus=Platichthys&species=stellatus\""
   ]
  },
  {
   "cell_type": "code",
   "execution_count": 34,
   "metadata": {
    "collapsed": false
   },
   "outputs": [],
   "source": [
    "raw_json = urllib.request.urlopen(api_url)\n",
    "decoded_json= raw_json.read().decode(\"utf-8\")\n",
    "parsed_json = json.loads(decoded_json) ## we use the json.load method directly\n",
    "raw_json.close()"
   ]
  },
  {
   "cell_type": "code",
   "execution_count": 36,
   "metadata": {
    "collapsed": false
   },
   "outputs": [
    {
     "data": {
      "text/plain": [
       "'Found inshore, often in very shallow water and in estuaries during the summer; moving into deeper water in the winter (Ref. 27547).  However, they may occur in deep water throughout the year (Ref. 27547).  Does not venture into water of high salinities (Ref. 28899).  Young and adults move up rivers, as much as 120 km (Ref. 27547).  Benthic (Ref. 58426).  Feeds on crustaceans, worms, small mollusks, brittle stars, and small fishes (Ref. 6885).  Important game fish (Ref. 2850).  Utilized fresh and frozen; eaten steamed, fried, boiled, microwaved, and baked (Ref. 9988).'"
      ]
     },
     "execution_count": 36,
     "metadata": {},
     "output_type": "execute_result"
    }
   ],
   "source": [
    "parsed_json[\"data\"][0][\"Comments\"]"
   ]
  },
  {
   "cell_type": "code",
   "execution_count": 37,
   "metadata": {
    "collapsed": false
   },
   "outputs": [
    {
     "data": {
      "text/plain": [
       "dict_keys(['GameFish', 'CommonLength', 'Entered', 'LongevityCaptive', 'MDredges', 'MTraps', 'DepthComRef', 'AquariumFishII', 'BodyShapeI', 'WeightFemale', 'MaxLengthRef', 'PriceCateg', 'Expert', 'TS', 'Saltwater', 'PicPreferredNameJ', 'EggPic', 'II', 'ElectroRef', 'DepthRangeComShallow', 'DateEntered', 'DateModified', 'DepthRangeDeep', 'Profile', 'Remark', 'MainCatchingMethod', 'LTypeMaxM', 'UsedasBait', 'Comments', 'LongevityCapRef', 'LarvaPic', 'CommonLengthF', 'Electrogenic', 'MCastnets', 'MaxWeightRef', 'SubGenCode', 'Source', 'MSeines', 'MLiftnets', 'DepthRangeShallow', 'LTypeComM', 'DepthRangeRef', 'Length', 'DateChecked', 'Landings', 'DangerousRef', 'DepthRangeComDeep', 'Modified', 'AnaCat', 'Emblematic', 'Genus', 'MSpears', 'GoogleImage', 'Fresh', 'BaitRef', 'MigratRef', 'GameRef', 'ImportanceRef', 'FamCode', 'Author', 'PicPreferredNameM', 'FBname', 'PD50', 'LengthFemale', 'SpecCode', 'GenCode', 'Aquarium', 'LTypeMaxF', 'AuthorRef', 'Brack', 'PictureFemale', 'Dangerous', 'SpeciesRefNo', 'PicPreferredName', 'AquacultureRef', 'LTypeComF', 'MOther', 'LongevityWild', 'Subfamily', 'Species', 'LongevityWildRef', 'PriceReliability', 'CommonLengthRef', 'Vulnerability', 'Importance', 'Weight', 'MGillnets', 'Complete', 'LandingStatistics', 'AquariumRef', 'PicPreferredNameF', 'UsedforAquaculture', 'LifeCycle', 'MHooksLines', 'MTrawls', 'TaxIssue', 'DemersPelag', 'Remarks7', 'Pic'])"
      ]
     },
     "execution_count": 37,
     "metadata": {},
     "output_type": "execute_result"
    }
   ],
   "source": [
    "parsed_json[\"data\"][0].keys()"
   ]
  },
  {
   "cell_type": "code",
   "execution_count": null,
   "metadata": {
    "collapsed": true
   },
   "outputs": [],
   "source": []
  },
  {
   "cell_type": "code",
   "execution_count": 1,
   "metadata": {
    "collapsed": true
   },
   "outputs": [],
   "source": [
    "#tidewater goby\n",
    "http://www.fishbase.org/Summary/SpeciesSummary.php?ID=3851&AT=tidewater+goby\n",
    "    \n",
    "#Muskie\n",
    "http://www.fishbase.org/Summary/SpeciesSummary.php?ID=2711&AT=muskie\n",
    "    \n",
    "#Alligator Gar\n",
    "http://www.fishbase.org/Summary/SpeciesSummary.php?ID=1073&AT=Aligator%20gar\n",
    "    \n",
    "#Steelhead\n",
    "http://www.fishbase.org/Summary/SpeciesSummary.php?ID=239&AT=steelhead"
   ]
  },
  {
   "cell_type": "code",
   "execution_count": 2,
   "metadata": {
    "collapsed": true
   },
   "outputs": [],
   "source": []
  },
  {
   "cell_type": "code",
   "execution_count": 3,
   "metadata": {
    "collapsed": true
   },
   "outputs": [],
   "source": [
    "import urllib.request\n",
    "from bs4 import BeautifulSoup"
   ]
  },
  {
   "cell_type": "code",
   "execution_count": 4,
   "metadata": {
    "collapsed": true
   },
   "outputs": [],
   "source": [
    "fish_urls=[\"http://www.fishbase.org/Summary/SpeciesSummary.php?ID=3851&AT=tidewater+goby\",\n",
    "           \"http://www.fishbase.org/Summary/SpeciesSummary.php?ID=2711&AT=muskie\",\n",
    "           \"http://www.fishbase.org/Summary/SpeciesSummary.php?ID=1073&AT=Aligator%20gar\",\n",
    "           \"http://www.fishbase.org/Summary/SpeciesSummary.php?ID=239&AT=steelhead\"]"
   ]
  },
  {
   "cell_type": "code",
   "execution_count": 7,
   "metadata": {
    "collapsed": false
   },
   "outputs": [
    {
     "data": {
      "text/plain": [
       "<bound method HTTPResponse.close of <http.client.HTTPResponse object at 0x7facfd059588>>"
      ]
     },
     "execution_count": 7,
     "metadata": {},
     "output_type": "execute_result"
    }
   ],
   "source": [
    "html = urllib.request.urlopen(fish_urls[0])\n",
    "html_doc = html.read()\n",
    "html.close"
   ]
  },
  {
   "cell_type": "code",
   "execution_count": 8,
   "metadata": {
    "collapsed": false
   },
   "outputs": [
    {
     "name": "stderr",
     "output_type": "stream",
     "text": [
      "/home/eeb177-student/miniconda3/lib/python3.5/site-packages/bs4/__init__.py:181: UserWarning: No parser was explicitly specified, so I'm using the best available HTML parser for this system (\"html.parser\"). This usually isn't a problem, but if you run this code on another system, or in a different virtual environment, it may use a different parser and behave differently.\n",
      "\n",
      "The code that caused this warning is on line 184 of the file /home/eeb177-student/miniconda3/lib/python3.5/runpy.py. To get rid of this warning, change code that looks like this:\n",
      "\n",
      " BeautifulSoup([your markup])\n",
      "\n",
      "to this:\n",
      "\n",
      " BeautifulSoup([your markup], \"html.parser\")\n",
      "\n",
      "  markup_type=markup_type))\n"
     ]
    }
   ],
   "source": [
    "soup = BeautifulSoup(html_doc)"
   ]
  },
  {
   "cell_type": "code",
   "execution_count": null,
   "metadata": {
    "collapsed": false
   },
   "outputs": [],
   "source": []
  },
  {
   "cell_type": "code",
   "execution_count": 10,
   "metadata": {
    "collapsed": true
   },
   "outputs": [],
   "source": [
    "links = soup.find_all(\"a\")\n",
    "\n",
    "for link in links:\n",
    "    "
   ]
  },
  {
   "cell_type": "code",
   "execution_count": null,
   "metadata": {
    "collapsed": true
   },
   "outputs": [],
   "source": []
  },
  {
   "cell_type": "code",
   "execution_count": null,
   "metadata": {
    "collapsed": true
   },
   "outputs": [],
   "source": []
  },
  {
   "cell_type": "code",
   "execution_count": null,
   "metadata": {
    "collapsed": true
   },
   "outputs": [],
   "source": [
    "grep \"common length\" tidewater_goby.html | cut -d \";\" -f 3\n",
    "\n",
    "#gets us the common length\n",
    "\n",
    "grep -A 3 \"Threat to humans\" tidewater_goby.html | tail -n +3 | cut -d \"<\" -f 3 | cut -d \">\" -f 2\n",
    "\n",
    "# gets us the statement on how it is dangerous to humans"
   ]
  },
  {
   "cell_type": "code",
   "execution_count": null,
   "metadata": {
    "collapsed": true
   },
   "outputs": [],
   "source": []
  },
  {
   "cell_type": "code",
   "execution_count": null,
   "metadata": {
    "collapsed": true
   },
   "outputs": [],
   "source": []
  },
  {
   "cell_type": "code",
   "execution_count": 1,
   "metadata": {
    "collapsed": true
   },
   "outputs": [],
   "source": [
    "import urllib.request\n",
    "import json\n"
   ]
  },
  {
   "cell_type": "code",
   "execution_count": 28,
   "metadata": {
    "collapsed": true
   },
   "outputs": [],
   "source": [
    "api_url = \"https://fishbase.ropensci.org/species/?genus=Esox&species=masquinongy\""
   ]
  },
  {
   "cell_type": "code",
   "execution_count": 29,
   "metadata": {
    "collapsed": false
   },
   "outputs": [],
   "source": [
    "raw_json = urllib.request.urlopen(api_url)\n",
    "decoded_json = raw_json.read().decode('utf-8')\n",
    "parsed_json= json.loads(decoded_json)\n",
    "raw_json.close()\n",
    "\n",
    "#str_response=raw_json_response.decode(\"utf-8\")"
   ]
  },
  {
   "cell_type": "code",
   "execution_count": 43,
   "metadata": {
    "collapsed": false
   },
   "outputs": [
    {
     "data": {
      "text/plain": [
       "{'AnaCat': 'non-migratory',\n",
       " 'AquacultureRef': 3843,\n",
       " 'Aquarium': 'public aquariums',\n",
       " 'AquariumFishII': 'based mainly on breeding',\n",
       " 'AquariumRef': 273,\n",
       " 'Author': 'Mitchill, 1824',\n",
       " 'AuthorRef': None,\n",
       " 'BaitRef': None,\n",
       " 'BodyShapeI': 'elongated',\n",
       " 'Brack': 0,\n",
       " 'Comments': 'Lives in clear vegetated lakes, quiet pools and backwaters of creeks and small to large rivers (Ref. 205, 10294).  Solitary, lurking hunter on other fishes as well as on ducklings, muskrats, and snakes. Oviparous, spawn in spring as the ice melts (Ref. 205).',\n",
       " 'CommonLength': 95.0,\n",
       " 'CommonLengthF': None,\n",
       " 'CommonLengthRef': 12193,\n",
       " 'Complete': None,\n",
       " 'Dangerous': 'harmless',\n",
       " 'DangerousRef': None,\n",
       " 'DateChecked': '1994-05-11T00:00:00.000Z',\n",
       " 'DateEntered': '1991-05-01T00:00:00.000Z',\n",
       " 'DateModified': '2007-11-13T00:00:00.000Z',\n",
       " 'DemersPelag': 'demersal',\n",
       " 'DepthComRef': None,\n",
       " 'DepthRangeComDeep': None,\n",
       " 'DepthRangeComShallow': None,\n",
       " 'DepthRangeDeep': None,\n",
       " 'DepthRangeRef': None,\n",
       " 'DepthRangeShallow': None,\n",
       " 'EggPic': None,\n",
       " 'ElectroRef': None,\n",
       " 'Electrogenic': 'no special ability',\n",
       " 'Emblematic': 0,\n",
       " 'Entered': 1,\n",
       " 'Expert': 10,\n",
       " 'FBname': 'Muskellunge',\n",
       " 'FamCode': 74,\n",
       " 'Fresh': -1,\n",
       " 'GameFish': -1,\n",
       " 'GameRef': 4699,\n",
       " 'GenCode': 3435,\n",
       " 'Genus': 'Esox',\n",
       " 'GoogleImage': -1,\n",
       " 'II': None,\n",
       " 'Importance': 'commercial',\n",
       " 'ImportanceRef': None,\n",
       " 'LTypeComF': None,\n",
       " 'LTypeComM': 'TL',\n",
       " 'LTypeMaxF': None,\n",
       " 'LTypeMaxM': 'TL',\n",
       " 'LandingStatistics': None,\n",
       " 'Landings': None,\n",
       " 'LarvaPic': None,\n",
       " 'Length': 183.0,\n",
       " 'LengthFemale': None,\n",
       " 'LifeCycle': None,\n",
       " 'LongevityCapRef': 273,\n",
       " 'LongevityCaptive': 10.0,\n",
       " 'LongevityWild': 30.0,\n",
       " 'LongevityWildRef': 26373,\n",
       " 'MCastnets': 0,\n",
       " 'MDredges': 0,\n",
       " 'MGillnets': 0,\n",
       " 'MHooksLines': -1,\n",
       " 'MLiftnets': 0,\n",
       " 'MOther': 0,\n",
       " 'MSeines': 0,\n",
       " 'MSpears': 0,\n",
       " 'MTraps': -1,\n",
       " 'MTrawls': 0,\n",
       " 'MainCatchingMethod': 'seines',\n",
       " 'MaxLengthRef': 5723,\n",
       " 'MaxWeightRef': 3549,\n",
       " 'MigratRef': None,\n",
       " 'Modified': 1472,\n",
       " 'PD50': 0.5157,\n",
       " 'Pic': None,\n",
       " 'PicPreferredName': 'Esmas_u3.jpg',\n",
       " 'PicPreferredNameF': None,\n",
       " 'PicPreferredNameJ': 'Esmas_j0.jpg',\n",
       " 'PicPreferredNameM': None,\n",
       " 'PictureFemale': None,\n",
       " 'PriceCateg': 'unknown',\n",
       " 'PriceReliability': None,\n",
       " 'Profile': None,\n",
       " 'Remark': None,\n",
       " 'Remarks7': None,\n",
       " 'Saltwater': 0,\n",
       " 'Source': 'O',\n",
       " 'SpecCode': 2711,\n",
       " 'Species': 'masquinongy',\n",
       " 'SpeciesRefNo': 26373,\n",
       " 'SubGenCode': None,\n",
       " 'Subfamily': None,\n",
       " 'TS': None,\n",
       " 'TaxIssue': 0,\n",
       " 'UsedasBait': 'never/rarely',\n",
       " 'UsedforAquaculture': 'commercial',\n",
       " 'Vulnerability': 64.9,\n",
       " 'Weight': 31750.0,\n",
       " 'WeightFemale': None}"
      ]
     },
     "execution_count": 43,
     "metadata": {},
     "output_type": "execute_result"
    }
   ],
   "source": [
    "parsed_json[\"data\"][0]"
   ]
  },
  {
   "cell_type": "code",
   "execution_count": 40,
   "metadata": {
    "collapsed": false
   },
   "outputs": [
    {
     "data": {
      "text/plain": [
       "'harmless'"
      ]
     },
     "execution_count": 40,
     "metadata": {},
     "output_type": "execute_result"
    }
   ],
   "source": [
    "parsed_json[\"data\"][0][\"Dangerous\"]"
   ]
  },
  {
   "cell_type": "code",
   "execution_count": 41,
   "metadata": {
    "collapsed": false
   },
   "outputs": [
    {
     "data": {
      "text/plain": [
       "'Lives in clear vegetated lakes, quiet pools and backwaters of creeks and small to large rivers (Ref. 205, 10294).  Solitary, lurking hunter on other fishes as well as on ducklings, muskrats, and snakes. Oviparous, spawn in spring as the ice melts (Ref. 205).'"
      ]
     },
     "execution_count": 41,
     "metadata": {},
     "output_type": "execute_result"
    }
   ],
   "source": [
    "parsed_json[\"data\"][0][\"Comments\"]"
   ]
  },
  {
   "cell_type": "code",
   "execution_count": 44,
   "metadata": {
    "collapsed": false
   },
   "outputs": [
    {
     "data": {
      "text/plain": [
       "'commercial'"
      ]
     },
     "execution_count": 44,
     "metadata": {},
     "output_type": "execute_result"
    }
   ],
   "source": [
    "parsed_json[\"data\"][0][\"UsedforAquaculture\"]"
   ]
  },
  {
   "cell_type": "code",
   "execution_count": null,
   "metadata": {
    "collapsed": true
   },
   "outputs": [],
   "source": []
  }
 ],
 "metadata": {
  "anaconda-cloud": {},
  "kernelspec": {
   "display_name": "Python [default]",
   "language": "python",
   "name": "python3"
  },
  "language_info": {
   "codemirror_mode": {
    "name": "ipython",
    "version": 3
   },
   "file_extension": ".py",
   "mimetype": "text/x-python",
   "name": "python",
   "nbconvert_exporter": "python",
   "pygments_lexer": "ipython3",
   "version": "3.5.2"
  }
 },
 "nbformat": 4,
 "nbformat_minor": 2
}
