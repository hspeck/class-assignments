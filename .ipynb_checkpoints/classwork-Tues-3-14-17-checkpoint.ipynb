{
 "cells": [
  {
   "cell_type": "markdown",
   "metadata": {},
   "source": [
    "# Questions on presentations\n",
    "\n",
    "Kelsey: Cartilageonous fishes occurences-interesting spike in extinction graph roughly 300 Mya. Seems to fall in the middle of the Devonian and Permian-Triassic.  What contributed to this?\n",
    "\n",
    "Dominique- Canis occurence: how does this compare with the overall canidae occurence data\n",
    "\n",
    "Linna-Proboscidea: Is the human driven megafaunal Pleistocene mass extinction reflected in the data?\n",
    "\n",
    "Ashen- Cooperation times:  Are there broader geographic groupings that influence cooperation time.\n",
    "\n",
    "Matthew- Live Oak- what are the underlying genetic contributions to the differences in traits observed between gardens?\n",
    "\n",
    "Yee-Squamata: how do Taphonomic conditions effect the geographic divesfication rates, and how would you account for this in the analysyis\n",
    "\n",
    "Antonella - Alligatoridae: What are the distribution of alligator missipensis fossils, has this varied over time?\n",
    "\n",
    "Kristen-Pilosa: What is occuring with the Pilosa found in Central Asia? Is this a real pilosa or misidentfied?\n",
    "\n",
    "Madison - Mammals and Birds: how would you measure interactions in the fossil record?\n",
    "\n",
    "Youstina- Haplorhini: Could this diversification data be incorporated with geological rock record/geological events/separations.\n",
    "\n",
    "Jeremy- Triathelete physiology: What was the total time spent at metabolic threshold? Did this change over time.\n",
    "\n",
    "Mehdi - Bird Athlerscosis, What program used for ancestral state reconstruction of Atherloscisis?\n",
    "\n",
    "Junghoon - circadian rythm of cockroach: does circadian rhythym vary geographically as well\n",
    " \n",
    "Dustin - Feliformia - Why are there so many singleton Feliformia? How does this compare with Caniformia?\n",
    "\n",
    "Hyein - duck and influenza: How relevant are fossil records to the evolution of viruses, as it may have origanted recently and spread independently of the host?"
   ]
  }
 ],
 "metadata": {
  "anaconda-cloud": {},
  "kernelspec": {
   "display_name": "Python [default]",
   "language": "python",
   "name": "python3"
  },
  "language_info": {
   "codemirror_mode": {
    "name": "ipython",
    "version": 3
   },
   "file_extension": ".py",
   "mimetype": "text/x-python",
   "name": "python",
   "nbconvert_exporter": "python",
   "pygments_lexer": "ipython3",
   "version": "3.5.2"
  }
 },
 "nbformat": 4,
 "nbformat_minor": 2
}
