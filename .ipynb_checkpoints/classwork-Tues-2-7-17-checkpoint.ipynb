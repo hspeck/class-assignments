{
 "cells": [
  {
   "cell_type": "code",
   "execution_count": 2,
   "metadata": {
    "collapsed": false
   },
   "outputs": [],
   "source": [
    "\n",
    "###defining a programming challenge e.g. working with farenheit and print out same temp in celsius\n",
    "\n",
    "#xx user input of a temp in F   \n",
    "#yy convert xx to C   \n",
    "#print yy   "
   ]
  },
  {
   "cell_type": "code",
   "execution_count": 3,
   "metadata": {
    "collapsed": false
   },
   "outputs": [
    {
     "name": "stdout",
     "output_type": "stream",
     "text": [
      "what is your namehayden\n"
     ]
    },
    {
     "data": {
      "text/plain": [
       "'hayden'"
      ]
     },
     "execution_count": 3,
     "metadata": {},
     "output_type": "execute_result"
    }
   ],
   "source": [
    "input(\"what is your name\")\n",
    "\n"
   ]
  },
  {
   "cell_type": "code",
   "execution_count": 8,
   "metadata": {
    "collapsed": false
   },
   "outputs": [
    {
     "name": "stdout",
     "output_type": "stream",
     "text": [
      "What is temperature in Farenheit? 212\n",
      "the temperature in C is 100.0\n"
     ]
    }
   ],
   "source": [
    "temp = input(\"What is temperature in Farenheit? \")\n",
    "cels = (float(temp)-32)*5/9 \n",
    "print(\"the temperature in C is {}\".format(cels))"
   ]
  },
  {
   "cell_type": "code",
   "execution_count": 21,
   "metadata": {
    "collapsed": false
   },
   "outputs": [
    {
     "name": "stdout",
     "output_type": "stream",
     "text": [
      "[5, 8]\n",
      "[5, 8]\n",
      "[5, 8]\n",
      "[1, 1, 2, 3, 5, 8, 13]\n",
      "[13, 8, 5, 3, 2, 1, 1]\n",
      "{'c': '-.-.', 'a': '.-', 'b': '-...-'}\n",
      "{'d': '-..', 'c': '-.-.', 'a': '.-', 'b': '-...-'}\n",
      "{'d': '-..', 'c': '-.-.', 'a': '.-', 'b': '-...'}\n"
     ]
    }
   ],
   "source": [
    "\n",
    "\n",
    "a=[1,1,2,3,5,8]\n",
    "\n",
    "print(a[4:6])\n",
    "print(a[4:])\n",
    "print(a[-2:])\n",
    "a.append(13)\n",
    "print(a)\n",
    "a.reverse()\n",
    "print(a)\n",
    "\n",
    "m={\"a\": \".-\", \"b\": \"-...-\", \"c\": \"-.-.\"}\n",
    "print(m)\n",
    "m[\"d\"]= \"-..\"\n",
    "print(m)\n",
    "m[\"b\"]=\"-...\"\n",
    "print(m)"
   ]
  },
  {
   "cell_type": "code",
   "execution_count": 24,
   "metadata": {
    "collapsed": false
   },
   "outputs": [],
   "source": [
    "my_dict={}\n",
    "#strings/floats/lists can be value in a dictionary\n",
    "mytdict={\"a\": \"test\", \"b\":3.14, \"c\":[1,2,3,4]}\n",
    "\n",
    "Genomesize={\"Homo sapiens\": 3200, \"Escherichia coli\": 4.6, \"Arabidopsis thaliana\": 157.0}"
   ]
  },
  {
   "cell_type": "code",
   "execution_count": 25,
   "metadata": {
    "collapsed": true
   },
   "outputs": [],
   "source": [
    "family_names={\"dad\": \"Bill\", \"mom\": \"Rita\", \"brother\": \"Cary\"}\n"
   ]
  },
  {
   "cell_type": "code",
   "execution_count": 28,
   "metadata": {
    "collapsed": false
   },
   "outputs": [
    {
     "data": {
      "text/plain": [
       "'Rita'"
      ]
     },
     "execution_count": 28,
     "metadata": {},
     "output_type": "execute_result"
    }
   ],
   "source": [
    "family_names[\"mom\"]"
   ]
  },
  {
   "cell_type": "code",
   "execution_count": 29,
   "metadata": {
    "collapsed": true
   },
   "outputs": [],
   "source": [
    "family_names[\"dog\"]=\"Lucy\"\n"
   ]
  },
  {
   "cell_type": "code",
   "execution_count": 30,
   "metadata": {
    "collapsed": false
   },
   "outputs": [
    {
     "data": {
      "text/plain": [
       "'Lucy'"
      ]
     },
     "execution_count": 30,
     "metadata": {},
     "output_type": "execute_result"
    }
   ],
   "source": [
    "family_names[\"dog\"]"
   ]
  },
  {
   "cell_type": "code",
   "execution_count": 34,
   "metadata": {
    "collapsed": false
   },
   "outputs": [
    {
     "name": "stdout",
     "output_type": "stream",
     "text": [
      "mom\n",
      "brother\n",
      "dad\n",
      "dog\n"
     ]
    }
   ],
   "source": [
    "for key in family_names.keys():\n",
    "    print((key))"
   ]
  },
  {
   "cell_type": "code",
   "execution_count": 40,
   "metadata": {
    "collapsed": false
   },
   "outputs": [
    {
     "data": {
      "text/plain": [
       "dict_items([('mom', 'Rita'), ('brother', 'Cary'), ('dad', 'Bill'), ('dog', 'Lucy')])"
      ]
     },
     "execution_count": 40,
     "metadata": {},
     "output_type": "execute_result"
    }
   ],
   "source": [
    "family_names.items()"
   ]
  },
  {
   "cell_type": "code",
   "execution_count": 44,
   "metadata": {
    "collapsed": false
   },
   "outputs": [
    {
     "name": "stdout",
     "output_type": "stream",
     "text": [
      "('mom', 'Rita')\n",
      "('brother', 'Cary')\n",
      "('dad', 'Bill')\n",
      "('dog', 'Lucy')\n"
     ]
    }
   ],
   "source": [
    "for pair in family_names.items():\n",
    "    print(pair)"
   ]
  },
  {
   "cell_type": "code",
   "execution_count": 45,
   "metadata": {
    "collapsed": false
   },
   "outputs": [
    {
     "name": "stdout",
     "output_type": "stream",
     "text": [
      "mom Rita\n",
      "brother Cary\n",
      "dad Bill\n",
      "dog Lucy\n"
     ]
    }
   ],
   "source": [
    "for key, value in family_names.items():\n",
    "    print(key, value)"
   ]
  },
  {
   "cell_type": "code",
   "execution_count": 46,
   "metadata": {
    "collapsed": false
   },
   "outputs": [
    {
     "data": {
      "text/plain": [
       "'Rita'"
      ]
     },
     "execution_count": 46,
     "metadata": {},
     "output_type": "execute_result"
    }
   ],
   "source": [
    "list(family_names.items())[0][1]"
   ]
  },
  {
   "cell_type": "code",
   "execution_count": 65,
   "metadata": {
    "collapsed": false
   },
   "outputs": [
    {
     "name": "stdout",
     "output_type": "stream",
     "text": [
      "['mom', 'brother', 'dad', 'dog']\n",
      "['mom', 'dog', 'dad', 'brother']\n"
     ]
    }
   ],
   "source": [
    "fam_keys=list(family_names.keys())\n",
    "print(fam_keys)\n",
    "fam_keys.sort(reverse = True)\n",
    "print(fam_keys)\n",
    "\n",
    "####for some reason this doesn't work and doesn't sort alphebetically\n"
   ]
  },
  {
   "cell_type": "code",
   "execution_count": 66,
   "metadata": {
    "collapsed": false
   },
   "outputs": [
    {
     "name": "stdout",
     "output_type": "stream",
     "text": [
      "['mom', 'dog', 'dad', 'brother']\n",
      "Rita\n",
      "Lucy\n",
      "Bill\n",
      "Cary\n"
     ]
    }
   ],
   "source": [
    "\n",
    "print(fam_keys)\n",
    "for fam in fam_keys:\n",
    "    print(family_names[fam])"
   ]
  },
  {
   "cell_type": "code",
   "execution_count": 67,
   "metadata": {
    "collapsed": true
   },
   "outputs": [],
   "source": [
    "Foodweb=[(\"a\", \"b\"), (\"a\", \"c\")]"
   ]
  },
  {
   "cell_type": "code",
   "execution_count": 68,
   "metadata": {
    "collapsed": false
   },
   "outputs": [
    {
     "data": {
      "text/plain": [
       "list"
      ]
     },
     "execution_count": 68,
     "metadata": {},
     "output_type": "execute_result"
    }
   ],
   "source": [
    "type(Foodweb)"
   ]
  },
  {
   "cell_type": "code",
   "execution_count": 69,
   "metadata": {
    "collapsed": true
   },
   "outputs": [],
   "source": [
    "ss=Foodweb[0]"
   ]
  },
  {
   "cell_type": "code",
   "execution_count": 70,
   "metadata": {
    "collapsed": false
   },
   "outputs": [
    {
     "name": "stdout",
     "output_type": "stream",
     "text": [
      "('a', 'b')\n"
     ]
    }
   ],
   "source": [
    "print(ss)"
   ]
  },
  {
   "cell_type": "code",
   "execution_count": null,
   "metadata": {
    "collapsed": true
   },
   "outputs": [],
   "source": [
    "a=[5]"
   ]
  }
 ],
 "metadata": {
  "anaconda-cloud": {},
  "kernelspec": {
   "display_name": "Python [default]",
   "language": "python",
   "name": "python3"
  },
  "language_info": {
   "codemirror_mode": {
    "name": "ipython",
    "version": 3
   },
   "file_extension": ".py",
   "mimetype": "text/x-python",
   "name": "python",
   "nbconvert_exporter": "python",
   "pygments_lexer": "ipython3",
   "version": "3.5.2"
  }
 },
 "nbformat": 4,
 "nbformat_minor": 2
}
