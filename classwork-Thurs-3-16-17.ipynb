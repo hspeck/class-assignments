{
 "cells": [
  {
   "cell_type": "markdown",
   "metadata": {},
   "source": [
    "# Class Presentation Notes\n",
    "\n",
    "Aditya-Dinosauria: Is there any way to incorporate continental drift into the geographic distribution model, especially over time?\n",
    "\n",
    "Justin-Cetecean body size: How has brainsize in whales changed geographically or over time?  How has human whaling caused extinction impacted brainsize.\n",
    "\n",
    "Sara-Canidae/Canis-Is the increase in speciation due to glaciation observed during other periods of glaciation?\n",
    "\n",
    "Christina-Chiropterans- Did certain subgroups of bats have their own radiation e.g. fruit bats. \n",
    "\n",
    "Gayane-Autism-Is there a geographic bias to the data on Autism diagnoses\n",
    "\n",
    "Roxana - Equidae: Is it possible to map the date of last occurence on the map to show human driven extinction in North America\n",
    "\n",
    "Cooper-Seagrass-Are there particular groups within the seagrasses that are particularly invasive?  Do these groups have a particularly high speciation rate, separate from the wider clade?\n",
    "\n",
    "Jeffrey-Canidae: Does the decline in Canidae correlate with changes in the fossil record of other taxa?\n",
    "\n"
   ]
  }
 ],
 "metadata": {
  "anaconda-cloud": {},
  "kernelspec": {
   "display_name": "Python [default]",
   "language": "python",
   "name": "python3"
  },
  "language_info": {
   "codemirror_mode": {
    "name": "ipython",
    "version": 3
   },
   "file_extension": ".py",
   "mimetype": "text/x-python",
   "name": "python",
   "nbconvert_exporter": "python",
   "pygments_lexer": "ipython3",
   "version": "3.5.2"
  }
 },
 "nbformat": 4,
 "nbformat_minor": 2
}
