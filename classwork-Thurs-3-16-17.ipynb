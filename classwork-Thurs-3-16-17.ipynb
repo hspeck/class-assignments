{
 "cells": [
  {
   "cell_type": "markdown",
   "metadata": {},
   "source": [
    "Class Presentation Notes\n",
    "\n",
    "Aditya-Dinosauria: Is there any way to incorporate continental drift into the geographic distribution model, especially over time?\n",
    "\n",
    "Justin-Cetecean body size: How has brainsize in whales changed geographically or over time?"
   ]
  }
 ],
 "metadata": {
  "anaconda-cloud": {},
  "kernelspec": {
   "display_name": "Python [default]",
   "language": "python",
   "name": "python3"
  },
  "language_info": {
   "codemirror_mode": {
    "name": "ipython",
    "version": 3
   },
   "file_extension": ".py",
   "mimetype": "text/x-python",
   "name": "python",
   "nbconvert_exporter": "python",
   "pygments_lexer": "ipython3",
   "version": "3.5.2"
  }
 },
 "nbformat": 4,
 "nbformat_minor": 2
}
