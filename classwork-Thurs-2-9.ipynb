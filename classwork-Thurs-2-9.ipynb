{
 "cells": [
  {
   "cell_type": "code",
   "execution_count": 3,
   "metadata": {
    "collapsed": false
   },
   "outputs": [
    {
     "name": "stdout",
     "output_type": "stream",
     "text": [
      "Homo is an Ape\n",
      "Pan is an Ape\n",
      "Gorilla is an Ape\n"
     ]
    }
   ],
   "source": [
    "apes= [\"Homo\", \"Pan\", \"Gorilla\"]\n",
    "\n",
    "for ape in apes:\n",
    "    print(ape +\" is an Ape\")"
   ]
  },
  {
   "cell_type": "code",
   "execution_count": 7,
   "metadata": {
    "collapsed": false,
    "scrolled": true
   },
   "outputs": [
    {
     "name": "stdout",
     "output_type": "stream",
     "text": [
      "Homo is an Ape. Its name is 4 letters long and its first letter is a H\n",
      "Pan is an Ape. Its name is 3 letters long and its first letter is a P\n",
      "Gorilla is an Ape. Its name is 7 letters long and its first letter is a G\n"
     ]
    }
   ],
   "source": [
    "for ape in apes:\n",
    "    name_length =len(ape)\n",
    "    firstletter=ape[0]\n",
    "    print(ape + \" is an Ape. Its name is \" +str(name_length) +\" letters long and its first letter is a \"+ firstletter)"
   ]
  },
  {
   "cell_type": "code",
   "execution_count": 8,
   "metadata": {
    "collapsed": false
   },
   "outputs": [
    {
     "name": "stdout",
     "output_type": "stream",
     "text": [
      "1\n",
      "2\n",
      "3\n",
      "4\n",
      "5\n",
      "6\n",
      "7\n",
      "8\n",
      "9\n"
     ]
    }
   ],
   "source": [
    "count=1\n",
    "while count<10:\n",
    "    print(count)\n",
    "    count=count+1"
   ]
  },
  {
   "cell_type": "code",
   "execution_count": 11,
   "metadata": {
    "collapsed": false
   },
   "outputs": [],
   "source": [
    "\n",
    "###neeed to use wget to get the data from the links\n",
    "#  www.nature.com/nature/journal/vaop/ncurrent/source_data/nature21074-f1.csv\n",
    "#  http://www.birds.cornell.edu/clementschecklist/wp-content/uploads/2013/03/eBird_Taxonomy_v2016_9Aug2016.csv\n",
    "    #worked fine\n",
    "    \n",
    "#now to fine dhte numberof families in the file\n",
    "\n",
    "#need to open the file and read it "
   ]
  },
  {
   "cell_type": "code",
   "execution_count": 12,
   "metadata": {
    "collapsed": true
   },
   "outputs": [],
   "source": [
    "#now we have 2 files \n",
    "# nature21074-f1.csv\n",
    "# eBird_Taxonomy_v2016_9Aug2016.csv\n",
    "\n",
    "\n",
    "#let's take a look to see the format"
   ]
  },
  {
   "cell_type": "code",
   "execution_count": 13,
   "metadata": {
    "collapsed": false
   },
   "outputs": [
    {
     "ename": "SyntaxError",
     "evalue": "invalid syntax (<ipython-input-13-2c6430b7841d>, line 12)",
     "output_type": "error",
     "traceback": [
      "\u001b[0;36m  File \u001b[0;32m\"<ipython-input-13-2c6430b7841d>\"\u001b[0;36m, line \u001b[0;32m12\u001b[0m\n\u001b[0;31m    tail -n +4 formatted_nature.csv | cut -d \",\" -f 3 |sort|uniq| wc -l\u001b[0m\n\u001b[0m                              ^\u001b[0m\n\u001b[0;31mSyntaxError\u001b[0m\u001b[0;31m:\u001b[0m invalid syntax\n"
     ]
    }
   ],
   "source": [
    "#converted the file type to the appropriate file using tr to swap \\r for \\n\n",
    "\n",
    "#want how many families in the file\n",
    "#don't need the top 3 lines of the file\n",
    "#use tail to get rid of them\n",
    "#then pass that to the cut and then sort, then collapse, then word count\n",
    "#delimited by \",\"\n",
    "\n",
    "#tail -n +4 gets the top of it\n",
    "\n",
    "\n",
    "\n"
   ]
  },
  {
   "cell_type": "markdown",
   "metadata": {},
   "source": [
    "##### Challenge Question\n",
    "tail -n +4 formatted_nature.csv | cut -d \",\" -f 3 |sort|uniq| wc -l\n",
    "\n",
    "194 families\n",
    "\n",
    "partner left too quickly\n"
   ]
  }
 ],
 "metadata": {
  "anaconda-cloud": {},
  "kernelspec": {
   "display_name": "Python [default]",
   "language": "python",
   "name": "python3"
  },
  "language_info": {
   "codemirror_mode": {
    "name": "ipython",
    "version": 3
   },
   "file_extension": ".py",
   "mimetype": "text/x-python",
   "name": "python",
   "nbconvert_exporter": "python",
   "pygments_lexer": "ipython3",
   "version": "3.5.2"
  }
 },
 "nbformat": 4,
 "nbformat_minor": 2
}
