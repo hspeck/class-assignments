{
 "cells": [
  {
   "cell_type": "code",
   "execution_count": 24,
   "metadata": {
    "collapsed": false
   },
   "outputs": [],
   "source": [
    "#opening the file\n",
    "in_file = '/home/eeb177-student/Desktop/eeb-177/class-assignments/canids/cleaned_canids.csv'\n",
    "with open(in_file, \"r\") as ff:\n",
    "    canid_recs = ff.readlines()"
   ]
  },
  {
   "cell_type": "code",
   "execution_count": 34,
   "metadata": {
    "collapsed": false
   },
   "outputs": [],
   "source": [
    "\n",
    "#let's make a dictionary, using defaultdict\n",
    "from collections import defaultdict\n",
    "\n",
    "species_ranges = defaultdict(list)\n",
    "for line in canid_recs:\n",
    "    species = line.split(\",\")[5]\n",
    "    min_age = float(line.split('\",\"')[10])\n",
    "    max_age = float(line.split('\",\"')[11])\n",
    "    \n",
    "    mean_age = (min_age + max_age)/2\n",
    "    \n",
    "    species_ranges[species].append(mean_age) #adds species as keys and mean ages as elements to list of ages\n",
    "    #print(mean_age)\n",
    "    "
   ]
  },
  {
   "cell_type": "code",
   "execution_count": 42,
   "metadata": {
    "collapsed": false
   },
   "outputs": [],
   "source": [
    "# get oldest and youngest range of fossils from each species\n",
    "\n",
    "output = open(\"canid-ranges.csv\", \"w\")\n",
    "\n",
    "for key in species_ranges.keys():\n",
    "    ages = species_ranges[key]\n",
    "    maxage = max(ages)\n",
    "    minage = min(ages)\n",
    "    genus = key.split(\" \")[0]\n",
    "    species =key\n",
    "    outline = \"{},{},{},{}\\n\".format(genus, species, minage, maxage)\n",
    "    output.write(outline)"
   ]
  },
  {
   "cell_type": "code",
   "execution_count": null,
   "metadata": {
    "collapsed": true
   },
   "outputs": [],
   "source": []
  }
 ],
 "metadata": {
  "anaconda-cloud": {},
  "kernelspec": {
   "display_name": "Python [default]",
   "language": "python",
   "name": "python3"
  },
  "language_info": {
   "codemirror_mode": {
    "name": "ipython",
    "version": 3
   },
   "file_extension": ".py",
   "mimetype": "text/x-python",
   "name": "python",
   "nbconvert_exporter": "python",
   "pygments_lexer": "ipython3",
   "version": "3.5.2"
  }
 },
 "nbformat": 4,
 "nbformat_minor": 2
}
