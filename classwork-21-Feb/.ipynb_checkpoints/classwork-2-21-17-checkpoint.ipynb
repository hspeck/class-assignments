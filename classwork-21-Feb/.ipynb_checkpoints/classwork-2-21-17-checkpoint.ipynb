{
 "cells": [
  {
   "cell_type": "markdown",
   "metadata": {},
   "source": [
    "record of commands\n",
    "\n",
    "wget http://ctfs.si.edu/webatlas/datasets/cocoli/cocoli.zip\n",
    "\n",
    "unzip cocoli.zip \n",
    "\n",
    "see cocoli.doc"
   ]
  },
  {
   "cell_type": "markdown",
   "metadata": {},
   "source": [
    "each row in cocoli.txt is an individual record for each plant \n",
    "    includes species code, coordinates in plot, etc.\n",
    "\n",
    "cocolisp.txt has a list of all the species and the code used in cocoli.txt for the species"
   ]
  },
  {
   "cell_type": "markdown",
   "metadata": {},
   "source": [
    "_______________________________________________________________\n",
    "head -n +12 cocoli.txt |tail -n +12\n",
    "\n",
    "mult2 refers to number of stems the individual had at second census\n",
    "\n",
    "dbh2 refers to stem diameter at breast height of biggest stem in mm on second survey\n",
    "\n",
    "find the genus and species names with \n",
    "1-Feb$ grep \"CAL2CA\" cocolisp.txt\n",
    "CAL2CA\tCalycophyllum\tcandidissimum\tRubiaceae\n"
   ]
  },
  {
   "cell_type": "markdown",
   "metadata": {},
   "source": [
    "Individual 000001 grew between survey 1 and 2\n",
    "\n",
    "for -1 of dbh, it means the plant is dead\n"
   ]
  },
  {
   "cell_type": "markdown",
   "metadata": {},
   "source": [
    "what species tended to experience the most growth, or what is average growth of each species\n",
    "\n",
    "are certain species more clustered together spatially within the patch\n",
    "\n",
    "did plants in the forest grow more in first interval between censuses, or second interval\n",
    "\n",
    "is there variation in growth rate across the plot\n",
    "\n",
    "does a species grow at different rates in different regions of plot\n",
    "    or did this change with the different time interval etc\n",
    "    \n"
   ]
  },
  {
   "cell_type": "markdown",
   "metadata": {},
   "source": [
    "which genus is most species richi in community\n",
    "    hint sed \"s/\\s/,/g\" replaces all whitespace with a single comma\n",
    "    \n",
    "cat cocolisp.txt| sed \"s/\\s/,/g\"|cut -d \",\" -f 2 | sort | uniq -c | sort -n\n",
    "\n",
    "\n",
    "Piper has 7\n",
    "\n",
    "how many genera have just one species represented in the community\n",
    "cat cocolisp.txt| sed \"s/\\s/,/g\"|cut -d \",\" -f 2 | sort | uniq -c | sort -n | grep \"1\" -wc\n",
    "\n",
    "99 genera in the community\n",
    "    (actually 98 because the genera header is caught in the sort, but we don't have time for it)\n",
    "\n",
    "\n",
    "Tabebuia can grep for it and then grep for the code in the code list"
   ]
  },
  {
   "cell_type": "markdown",
   "metadata": {},
   "source": [
    "Relative growth rate= (size at t+1 -size t)/size at t\n",
    "\n",
    "Pseudocode to calculate it in python\n",
    "\n",
    "import data file into python\n",
    "        make it read by lines, to get each thing as a list\n",
    "\n",
    "split the lines of the file by tab \n",
    "\n",
    "for each line (aka individual)\n",
    "    assign variable for diameter at each census\n",
    "    calculate the relative growth rate for each period\n",
    "    assign variable for these results\n",
    "    assign individual (aka line split by tab, field at front) to key of dicitonary\n",
    "    then assign the calculated numbers into a list which will be the value for the key assigned\n",
    "    \n",
    "    \n",
    "\n"
   ]
  }
 ],
 "metadata": {
  "anaconda-cloud": {},
  "kernelspec": {
   "display_name": "Python [default]",
   "language": "python",
   "name": "python3"
  },
  "language_info": {
   "codemirror_mode": {
    "name": "ipython",
    "version": 3
   },
   "file_extension": ".py",
   "mimetype": "text/x-python",
   "name": "python",
   "nbconvert_exporter": "python",
   "pygments_lexer": "ipython3",
   "version": "3.5.2"
  }
 },
 "nbformat": 4,
 "nbformat_minor": 2
}
